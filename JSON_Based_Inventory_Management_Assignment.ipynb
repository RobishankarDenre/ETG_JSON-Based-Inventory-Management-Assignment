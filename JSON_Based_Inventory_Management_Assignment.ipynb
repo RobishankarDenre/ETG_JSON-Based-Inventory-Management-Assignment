{
  "nbformat": 4,
  "nbformat_minor": 0,
  "metadata": {
    "colab": {
      "name": "JSON Based Inventory Management Assignment.ipynb",
      "provenance": [],
      "collapsed_sections": []
    },
    "kernelspec": {
      "name": "python3",
      "display_name": "Python 3"
    },
    "language_info": {
      "name": "python"
    }
  },
  "cells": [
    {
      "cell_type": "markdown",
      "metadata": {
        "id": "kA-4jxx1uAB9"
      },
      "source": [
        "#JSON Based Inventory Management Assignment"
      ]
    },
    {
      "cell_type": "code",
      "metadata": {
        "id": "15p6flm-QV5n"
      },
      "source": [
        "arecord = {1234501 : {\"P_Name\":\"Laptop\", \"Quantity\":8, \"price\":42999, \"Discount\":\"5%\", \"Rating\":4.3, \"Company\":\"Hp\"},\n",
        "          \n",
        "          1234502 : {\"P_Name\":\"Desktop\", \"Quantity\":5, \"price\":35999, \"Discount\":\"7%\", \"Rating\":4.4, \"Company\":\"Dell\"},\n",
        "\n",
        "          1234503 : {\"P_Name\":\"Monitor\", \"Quantity\":10, \"price\":7599, \"Discount\":\"3%\", \"Rating\":4.2, \"Company\":\"LG\"},\n",
        "          \n",
        "          1234504 : {\"P_Name\":\"Tablet\", \"Quantity\":40, \"price\":21999, \"Discount\":\"15%\", \"Rating\":4.1, \"Company\":\"Acer\"},\n",
        "          \n",
        "          1234505 : {\"P_Name\":\"Camera\", \"Quantity\":77, \"price\":7999, \"Discount\":\"9%\",\"Rating\":3.9, \"Company\":\"Sony\"},\n",
        "          \n",
        "          1234506 : {\"P_Name\":\"Mobile\", \"Quantity\":20, \"price\":9999, \"Discount\":\"7%\", \"Rating\":4.2, \"Company\":\"Nokia\"},\n",
        "\n",
        "          1234507 : {\"P_Name\":\"Printer\", \"Quantity\":21, \"price\":13999, \"Discount\":\"23%\", \"Rating\":3.5, \"Company\":\"Canon\"},\n",
        "\n",
        "          1234508 : {\"P_Name\":\"HDD\", \"Quantity\":30, \"price\":3599, \"Discount\":\"2%\", \"Rating\":3.9, \"Company\":\"Green\"},\n",
        "\n",
        "          1234509 : {\"P_Name\":\"SSD\", \"Quantity\":25,\"price\":4599,\"Discount\":\"1%\", \"Rating\":4.6, \"Company\":\"Kingstorm\"},\n",
        "\n",
        "          1234510 : {\"P_Name\":\"Mouse\", \"Quantity\":42, \"price\":699, \"Discount\":\"8%\", \"Rating\":4.2, \"Company\":\"Logitech\"},\n",
        "\n",
        "          1234511 : {\"P_Name\":\"Keyboard\", \"Quantity\":57, \"price\":1299, \"Discount\":\"4%\", \"Rating\":4.0, \"Company\":\"Dell\"},\n",
        "\n",
        "          1234512 : {\"P_Name\":\"Pendrive\", \"Quantity\":32, \"price\":499, \"Discount\":\"1%\", \"Rating\":3.6, \"Company\":\"Sandisk\"},\n",
        "\n",
        "          1234513 : {\"P_Name\":\"Speakers\", \"Quantity\":23,\"price\":1599,\"Discount\":\"4%\", \"Rating\":4.4, \"Company\":\"Boat\"},\n",
        "\n",
        "          1234514 : {\"P_Name\":\"Watch\", \"Quantity\":21, \"price\":1199, \"Discount\":\"11%\", \"Rating\":4.1, \"Company\":\"Sony\"},\n",
        "\n",
        "          1234515 : {\"P_Name\":\"Light\", \"Quantity\":12,\"price\":299, \"Discount\":\"10%\", \"Rating\":4.0, \"Company\":\"Wipro\"},\n",
        "\n",
        "          1234516 : {\"P_Name\":\"Bottle\", \"Quantity\":14, \"price\":719, \"Discount\":\"7%\", \"Rating\":3.9, \"Company\":\"cell\"},\n",
        "\n",
        "          1234517 : {\"P_Name\":\"Power Bank\", \"Quantity\":41,\"price\":1399, \"Discount\":\"3%\", \"Rating\":4.4, \"Company\":\"MI\"},\n",
        "\n",
        "          1234518 : {\"P_Name\":\"Router\", \"Quantity\":44, \"price\":2699, \"Discount\":\"10%\", \"Rating\":4.4, \"Company\":\"TPLINK\"},\n",
        "\n",
        "          1234519 : {\"P_Name\":\"Lamp\", \"Quantity\":52,\"price\":339, \"Discount\":\"10%\", \"Rating\":3.2, \"Company\":\"Wora\"},\n",
        "\n",
        "          1234520 : {\"P_Name\":\"SD Card\", \"Quantity\":36, \"price\":749, \"Discount\":\"31%\", \"Rating\":4.1, \"Company\":\"Hp\"},\n",
        "\n",
        "          1234521 : {\"P_Name\":\"Mask\", \"Quantity\":63, \"price\":999, \"Discount\":\"10%\", \"Rating\":4.4, \"Company\":\"Tab\"},\n",
        "\n",
        "          1234522 : {\"P_Name\":\"AC\", \"Quantity\":25, \"price\":31999, \"Discount\":\"7%\", \"Rating\":4.0, \"Company\":\"ONIDA\"},\n",
        "\n",
        "          1234523 : {\"P_Name\":\"Cycle\", \"Quantity\":52, \"price\":6999, \"Discount\":\"3%\", \"Rating\":3.3, \"Company\":\"Hero\"},\n",
        "\n",
        "          1234524 : {\"P_Name\":\"Fan\", \"Quantity\":14, \"price\":1499, \"Discount\":\"7%\", \"Rating\":3.7, \"Company\":\"Bajaj\"},\n",
        "\n",
        "          1234525 : {\"P_Name\":\"Calculator\", \"Quantity\":69, \"price\":899, \"Discount\":\"3%\", \"Rating\":4.1, \"Company\":\"Dell\"},\n",
        "\n",
        "          1234526 : {\"P_Name\":\"Jio Fi\", \"Quantity\":96, \"price\":2599, \"Discount\":\"4%\", \"Rating\":3.2,\"Company\":\"Relinec\"},\n",
        "\n",
        "          1234527 : {\"P_Name\":\"Python Book\", \"Quantity\":58,\"price\":1999,\"Discount\":\"5%\", \"Rating\":4.4, \"Company\":\"Paper Back\"},\n",
        "\n",
        "          1234528 : {\"P_Name\":\"C Book\", \"Quantity\":88,\"price\":799,\"Discount\":\"2%\", \"Rating\":4.1, \"Company\":\"Threja\"},\n",
        "\n",
        "          1234529 : {\"P_Name\":\"Java Book\", \"Quantity\":85,\"price\":989,\"Discount\":\"11%\",\"Rating\":4.3, \"Company\":\"Sheild\"},\n",
        "\n",
        "          1234530 : {\"P_Name\":\"Chocolate\", \"Quantity\":56, \"price\":199, \"Discount\":\"1%\", \"Rating\":4.4, \"Company\":\"Milk\"},\n",
        "\n",
        "          1234531 : {\"P_Name\" : \"Sofa\", \"Quantity\":54,\"price\":\"12299\",\"Discount\":\"8%\",\"Rating\":4.2, \"Company\":\"Sns\"}}"
      ],
      "execution_count": 1,
      "outputs": []
    },
    {
      "cell_type": "markdown",
      "metadata": {
        "id": "93Hcmqn0tzoH"
      },
      "source": [
        "#Print The Record"
      ]
    },
    {
      "cell_type": "code",
      "metadata": {
        "colab": {
          "base_uri": "https://localhost:8080/"
        },
        "id": "Yu5QLfCIf4GQ",
        "outputId": "5730ea69-7ce0-4544-9bae-3927f5da9987"
      },
      "source": [
        "arecord"
      ],
      "execution_count": 2,
      "outputs": [
        {
          "output_type": "execute_result",
          "data": {
            "text/plain": [
              "{1234501: {'Company': 'Hp',\n",
              "  'Discount': '5%',\n",
              "  'P_Name': 'Laptop',\n",
              "  'Quantity': 8,\n",
              "  'Rating': 4.3,\n",
              "  'price': 42999},\n",
              " 1234502: {'Company': 'Dell',\n",
              "  'Discount': '7%',\n",
              "  'P_Name': 'Desktop',\n",
              "  'Quantity': 5,\n",
              "  'Rating': 4.4,\n",
              "  'price': 35999},\n",
              " 1234503: {'Company': 'LG',\n",
              "  'Discount': '3%',\n",
              "  'P_Name': 'Monitor',\n",
              "  'Quantity': 10,\n",
              "  'Rating': 4.2,\n",
              "  'price': 7599},\n",
              " 1234504: {'Company': 'Acer',\n",
              "  'Discount': '15%',\n",
              "  'P_Name': 'Tablet',\n",
              "  'Quantity': 40,\n",
              "  'Rating': 4.1,\n",
              "  'price': 21999},\n",
              " 1234505: {'Company': 'Sony',\n",
              "  'Discount': '9%',\n",
              "  'P_Name': 'Camera',\n",
              "  'Quantity': 77,\n",
              "  'Rating': 3.9,\n",
              "  'price': 7999},\n",
              " 1234506: {'Company': 'Nokia',\n",
              "  'Discount': '7%',\n",
              "  'P_Name': 'Mobile',\n",
              "  'Quantity': 20,\n",
              "  'Rating': 4.2,\n",
              "  'price': 9999},\n",
              " 1234507: {'Company': 'Canon',\n",
              "  'Discount': '23%',\n",
              "  'P_Name': 'Printer',\n",
              "  'Quantity': 21,\n",
              "  'Rating': 3.5,\n",
              "  'price': 13999},\n",
              " 1234508: {'Company': 'Green',\n",
              "  'Discount': '2%',\n",
              "  'P_Name': 'HDD',\n",
              "  'Quantity': 30,\n",
              "  'Rating': 3.9,\n",
              "  'price': 3599},\n",
              " 1234509: {'Company': 'Kingstorm',\n",
              "  'Discount': '1%',\n",
              "  'P_Name': 'SSD',\n",
              "  'Quantity': 25,\n",
              "  'Rating': 4.6,\n",
              "  'price': 4599},\n",
              " 1234510: {'Company': 'Logitech',\n",
              "  'Discount': '8%',\n",
              "  'P_Name': 'Mouse',\n",
              "  'Quantity': 42,\n",
              "  'Rating': 4.2,\n",
              "  'price': 699},\n",
              " 1234511: {'Company': 'Dell',\n",
              "  'Discount': '4%',\n",
              "  'P_Name': 'Keyboard',\n",
              "  'Quantity': 57,\n",
              "  'Rating': 4.0,\n",
              "  'price': 1299},\n",
              " 1234512: {'Company': 'Sandisk',\n",
              "  'Discount': '1%',\n",
              "  'P_Name': 'Pendrive',\n",
              "  'Quantity': 32,\n",
              "  'Rating': 3.6,\n",
              "  'price': 499},\n",
              " 1234513: {'Company': 'Boat',\n",
              "  'Discount': '4%',\n",
              "  'P_Name': 'Speakers',\n",
              "  'Quantity': 23,\n",
              "  'Rating': 4.4,\n",
              "  'price': 1599},\n",
              " 1234514: {'Company': 'Sony',\n",
              "  'Discount': '11%',\n",
              "  'P_Name': 'Watch',\n",
              "  'Quantity': 21,\n",
              "  'Rating': 4.1,\n",
              "  'price': 1199},\n",
              " 1234515: {'Company': 'Wipro',\n",
              "  'Discount': '10%',\n",
              "  'P_Name': 'Light',\n",
              "  'Quantity': 12,\n",
              "  'Rating': 4.0,\n",
              "  'price': 299},\n",
              " 1234516: {'Company': 'cell',\n",
              "  'Discount': '7%',\n",
              "  'P_Name': 'Bottle',\n",
              "  'Quantity': 14,\n",
              "  'Rating': 3.9,\n",
              "  'price': 719},\n",
              " 1234517: {'Company': 'MI',\n",
              "  'Discount': '3%',\n",
              "  'P_Name': 'Power Bank',\n",
              "  'Quantity': 41,\n",
              "  'Rating': 4.4,\n",
              "  'price': 1399},\n",
              " 1234518: {'Company': 'TPLINK',\n",
              "  'Discount': '10%',\n",
              "  'P_Name': 'Router',\n",
              "  'Quantity': 44,\n",
              "  'Rating': 4.4,\n",
              "  'price': 2699},\n",
              " 1234519: {'Company': 'Wora',\n",
              "  'Discount': '10%',\n",
              "  'P_Name': 'Lamp',\n",
              "  'Quantity': 52,\n",
              "  'Rating': 3.2,\n",
              "  'price': 339},\n",
              " 1234520: {'Company': 'Hp',\n",
              "  'Discount': '31%',\n",
              "  'P_Name': 'SD Card',\n",
              "  'Quantity': 36,\n",
              "  'Rating': 4.1,\n",
              "  'price': 749},\n",
              " 1234521: {'Company': 'Tab',\n",
              "  'Discount': '10%',\n",
              "  'P_Name': 'Mask',\n",
              "  'Quantity': 63,\n",
              "  'Rating': 4.4,\n",
              "  'price': 999},\n",
              " 1234522: {'Company': 'ONIDA',\n",
              "  'Discount': '7%',\n",
              "  'P_Name': 'AC',\n",
              "  'Quantity': 25,\n",
              "  'Rating': 4.0,\n",
              "  'price': 31999},\n",
              " 1234523: {'Company': 'Hero',\n",
              "  'Discount': '3%',\n",
              "  'P_Name': 'Cycle',\n",
              "  'Quantity': 52,\n",
              "  'Rating': 3.3,\n",
              "  'price': 6999},\n",
              " 1234524: {'Company': 'Bajaj',\n",
              "  'Discount': '7%',\n",
              "  'P_Name': 'Fan',\n",
              "  'Quantity': 14,\n",
              "  'Rating': 3.7,\n",
              "  'price': 1499},\n",
              " 1234525: {'Company': 'Dell',\n",
              "  'Discount': '3%',\n",
              "  'P_Name': 'Calculator',\n",
              "  'Quantity': 69,\n",
              "  'Rating': 4.1,\n",
              "  'price': 899},\n",
              " 1234526: {'Company': 'Relinec',\n",
              "  'Discount': '4%',\n",
              "  'P_Name': 'Jio Fi',\n",
              "  'Quantity': 96,\n",
              "  'Rating': 3.2,\n",
              "  'price': 2599},\n",
              " 1234527: {'Company': 'Paper Back',\n",
              "  'Discount': '5%',\n",
              "  'P_Name': 'Python Book',\n",
              "  'Quantity': 58,\n",
              "  'Rating': 4.4,\n",
              "  'price': 1999},\n",
              " 1234528: {'Company': 'Threja',\n",
              "  'Discount': '2%',\n",
              "  'P_Name': 'C Book',\n",
              "  'Quantity': 88,\n",
              "  'Rating': 4.1,\n",
              "  'price': 799},\n",
              " 1234529: {'Company': 'Sheild',\n",
              "  'Discount': '11%',\n",
              "  'P_Name': 'Java Book',\n",
              "  'Quantity': 85,\n",
              "  'Rating': 4.3,\n",
              "  'price': 989},\n",
              " 1234530: {'Company': 'Milk',\n",
              "  'Discount': '1%',\n",
              "  'P_Name': 'Chocolate',\n",
              "  'Quantity': 56,\n",
              "  'Rating': 4.4,\n",
              "  'price': 199},\n",
              " 1234531: {'Company': 'Sns',\n",
              "  'Discount': '8%',\n",
              "  'P_Name': 'Sofa',\n",
              "  'Quantity': 54,\n",
              "  'Rating': 4.2,\n",
              "  'price': '12299'}}"
            ]
          },
          "metadata": {},
          "execution_count": 2
        }
      ]
    },
    {
      "cell_type": "markdown",
      "metadata": {
        "id": "uEeQWiYSqPrJ"
      },
      "source": [
        "#Print the All Keys"
      ]
    },
    {
      "cell_type": "code",
      "metadata": {
        "colab": {
          "base_uri": "https://localhost:8080/"
        },
        "id": "PImJXl4NhUdp",
        "outputId": "1874481b-0b0e-4d0f-ed21-5857783b5f10"
      },
      "source": [
        "arecord.keys()"
      ],
      "execution_count": 3,
      "outputs": [
        {
          "output_type": "execute_result",
          "data": {
            "text/plain": [
              "dict_keys([1234501, 1234502, 1234503, 1234504, 1234505, 1234506, 1234507, 1234508, 1234509, 1234510, 1234511, 1234512, 1234513, 1234514, 1234515, 1234516, 1234517, 1234518, 1234519, 1234520, 1234521, 1234522, 1234523, 1234524, 1234525, 1234526, 1234527, 1234528, 1234529, 1234530, 1234531])"
            ]
          },
          "metadata": {},
          "execution_count": 3
        }
      ]
    },
    {
      "cell_type": "markdown",
      "metadata": {
        "id": "jAh0os9nqU-S"
      },
      "source": [
        "#Print The All Values"
      ]
    },
    {
      "cell_type": "code",
      "metadata": {
        "colab": {
          "base_uri": "https://localhost:8080/"
        },
        "id": "ZlJGhd5Vhbtj",
        "outputId": "55a581e6-20d3-445f-a95e-4928123630a0"
      },
      "source": [
        "arecord.values()"
      ],
      "execution_count": 4,
      "outputs": [
        {
          "output_type": "execute_result",
          "data": {
            "text/plain": [
              "dict_values([{'P_Name': 'Laptop', 'Quantity': 8, 'price': 42999, 'Discount': '5%', 'Rating': 4.3, 'Company': 'Hp'}, {'P_Name': 'Desktop', 'Quantity': 5, 'price': 35999, 'Discount': '7%', 'Rating': 4.4, 'Company': 'Dell'}, {'P_Name': 'Monitor', 'Quantity': 10, 'price': 7599, 'Discount': '3%', 'Rating': 4.2, 'Company': 'LG'}, {'P_Name': 'Tablet', 'Quantity': 40, 'price': 21999, 'Discount': '15%', 'Rating': 4.1, 'Company': 'Acer'}, {'P_Name': 'Camera', 'Quantity': 77, 'price': 7999, 'Discount': '9%', 'Rating': 3.9, 'Company': 'Sony'}, {'P_Name': 'Mobile', 'Quantity': 20, 'price': 9999, 'Discount': '7%', 'Rating': 4.2, 'Company': 'Nokia'}, {'P_Name': 'Printer', 'Quantity': 21, 'price': 13999, 'Discount': '23%', 'Rating': 3.5, 'Company': 'Canon'}, {'P_Name': 'HDD', 'Quantity': 30, 'price': 3599, 'Discount': '2%', 'Rating': 3.9, 'Company': 'Green'}, {'P_Name': 'SSD', 'Quantity': 25, 'price': 4599, 'Discount': '1%', 'Rating': 4.6, 'Company': 'Kingstorm'}, {'P_Name': 'Mouse', 'Quantity': 42, 'price': 699, 'Discount': '8%', 'Rating': 4.2, 'Company': 'Logitech'}, {'P_Name': 'Keyboard', 'Quantity': 57, 'price': 1299, 'Discount': '4%', 'Rating': 4.0, 'Company': 'Dell'}, {'P_Name': 'Pendrive', 'Quantity': 32, 'price': 499, 'Discount': '1%', 'Rating': 3.6, 'Company': 'Sandisk'}, {'P_Name': 'Speakers', 'Quantity': 23, 'price': 1599, 'Discount': '4%', 'Rating': 4.4, 'Company': 'Boat'}, {'P_Name': 'Watch', 'Quantity': 21, 'price': 1199, 'Discount': '11%', 'Rating': 4.1, 'Company': 'Sony'}, {'P_Name': 'Light', 'Quantity': 12, 'price': 299, 'Discount': '10%', 'Rating': 4.0, 'Company': 'Wipro'}, {'P_Name': 'Bottle', 'Quantity': 14, 'price': 719, 'Discount': '7%', 'Rating': 3.9, 'Company': 'cell'}, {'P_Name': 'Power Bank', 'Quantity': 41, 'price': 1399, 'Discount': '3%', 'Rating': 4.4, 'Company': 'MI'}, {'P_Name': 'Router', 'Quantity': 44, 'price': 2699, 'Discount': '10%', 'Rating': 4.4, 'Company': 'TPLINK'}, {'P_Name': 'Lamp', 'Quantity': 52, 'price': 339, 'Discount': '10%', 'Rating': 3.2, 'Company': 'Wora'}, {'P_Name': 'SD Card', 'Quantity': 36, 'price': 749, 'Discount': '31%', 'Rating': 4.1, 'Company': 'Hp'}, {'P_Name': 'Mask', 'Quantity': 63, 'price': 999, 'Discount': '10%', 'Rating': 4.4, 'Company': 'Tab'}, {'P_Name': 'AC', 'Quantity': 25, 'price': 31999, 'Discount': '7%', 'Rating': 4.0, 'Company': 'ONIDA'}, {'P_Name': 'Cycle', 'Quantity': 52, 'price': 6999, 'Discount': '3%', 'Rating': 3.3, 'Company': 'Hero'}, {'P_Name': 'Fan', 'Quantity': 14, 'price': 1499, 'Discount': '7%', 'Rating': 3.7, 'Company': 'Bajaj'}, {'P_Name': 'Calculator', 'Quantity': 69, 'price': 899, 'Discount': '3%', 'Rating': 4.1, 'Company': 'Dell'}, {'P_Name': 'Jio Fi', 'Quantity': 96, 'price': 2599, 'Discount': '4%', 'Rating': 3.2, 'Company': 'Relinec'}, {'P_Name': 'Python Book', 'Quantity': 58, 'price': 1999, 'Discount': '5%', 'Rating': 4.4, 'Company': 'Paper Back'}, {'P_Name': 'C Book', 'Quantity': 88, 'price': 799, 'Discount': '2%', 'Rating': 4.1, 'Company': 'Threja'}, {'P_Name': 'Java Book', 'Quantity': 85, 'price': 989, 'Discount': '11%', 'Rating': 4.3, 'Company': 'Sheild'}, {'P_Name': 'Chocolate', 'Quantity': 56, 'price': 199, 'Discount': '1%', 'Rating': 4.4, 'Company': 'Milk'}, {'P_Name': 'Sofa', 'Quantity': 54, 'price': '12299', 'Discount': '8%', 'Rating': 4.2, 'Company': 'Sns'}])"
            ]
          },
          "metadata": {},
          "execution_count": 4
        }
      ]
    },
    {
      "cell_type": "markdown",
      "metadata": {
        "id": "Jecy1K07qeOZ"
      },
      "source": [
        "#Print the all Key Values"
      ]
    },
    {
      "cell_type": "code",
      "metadata": {
        "colab": {
          "base_uri": "https://localhost:8080/"
        },
        "id": "a9Tzd3-1ho56",
        "outputId": "ecce6efd-50eb-4dbd-a314-b6cf81a17828"
      },
      "source": [
        "for i in arecord.keys():\n",
        "  print(i,arecord[i])"
      ],
      "execution_count": 5,
      "outputs": [
        {
          "output_type": "stream",
          "name": "stdout",
          "text": [
            "1234501 {'P_Name': 'Laptop', 'Quantity': 8, 'price': 42999, 'Discount': '5%', 'Rating': 4.3, 'Company': 'Hp'}\n",
            "1234502 {'P_Name': 'Desktop', 'Quantity': 5, 'price': 35999, 'Discount': '7%', 'Rating': 4.4, 'Company': 'Dell'}\n",
            "1234503 {'P_Name': 'Monitor', 'Quantity': 10, 'price': 7599, 'Discount': '3%', 'Rating': 4.2, 'Company': 'LG'}\n",
            "1234504 {'P_Name': 'Tablet', 'Quantity': 40, 'price': 21999, 'Discount': '15%', 'Rating': 4.1, 'Company': 'Acer'}\n",
            "1234505 {'P_Name': 'Camera', 'Quantity': 77, 'price': 7999, 'Discount': '9%', 'Rating': 3.9, 'Company': 'Sony'}\n",
            "1234506 {'P_Name': 'Mobile', 'Quantity': 20, 'price': 9999, 'Discount': '7%', 'Rating': 4.2, 'Company': 'Nokia'}\n",
            "1234507 {'P_Name': 'Printer', 'Quantity': 21, 'price': 13999, 'Discount': '23%', 'Rating': 3.5, 'Company': 'Canon'}\n",
            "1234508 {'P_Name': 'HDD', 'Quantity': 30, 'price': 3599, 'Discount': '2%', 'Rating': 3.9, 'Company': 'Green'}\n",
            "1234509 {'P_Name': 'SSD', 'Quantity': 25, 'price': 4599, 'Discount': '1%', 'Rating': 4.6, 'Company': 'Kingstorm'}\n",
            "1234510 {'P_Name': 'Mouse', 'Quantity': 42, 'price': 699, 'Discount': '8%', 'Rating': 4.2, 'Company': 'Logitech'}\n",
            "1234511 {'P_Name': 'Keyboard', 'Quantity': 57, 'price': 1299, 'Discount': '4%', 'Rating': 4.0, 'Company': 'Dell'}\n",
            "1234512 {'P_Name': 'Pendrive', 'Quantity': 32, 'price': 499, 'Discount': '1%', 'Rating': 3.6, 'Company': 'Sandisk'}\n",
            "1234513 {'P_Name': 'Speakers', 'Quantity': 23, 'price': 1599, 'Discount': '4%', 'Rating': 4.4, 'Company': 'Boat'}\n",
            "1234514 {'P_Name': 'Watch', 'Quantity': 21, 'price': 1199, 'Discount': '11%', 'Rating': 4.1, 'Company': 'Sony'}\n",
            "1234515 {'P_Name': 'Light', 'Quantity': 12, 'price': 299, 'Discount': '10%', 'Rating': 4.0, 'Company': 'Wipro'}\n",
            "1234516 {'P_Name': 'Bottle', 'Quantity': 14, 'price': 719, 'Discount': '7%', 'Rating': 3.9, 'Company': 'cell'}\n",
            "1234517 {'P_Name': 'Power Bank', 'Quantity': 41, 'price': 1399, 'Discount': '3%', 'Rating': 4.4, 'Company': 'MI'}\n",
            "1234518 {'P_Name': 'Router', 'Quantity': 44, 'price': 2699, 'Discount': '10%', 'Rating': 4.4, 'Company': 'TPLINK'}\n",
            "1234519 {'P_Name': 'Lamp', 'Quantity': 52, 'price': 339, 'Discount': '10%', 'Rating': 3.2, 'Company': 'Wora'}\n",
            "1234520 {'P_Name': 'SD Card', 'Quantity': 36, 'price': 749, 'Discount': '31%', 'Rating': 4.1, 'Company': 'Hp'}\n",
            "1234521 {'P_Name': 'Mask', 'Quantity': 63, 'price': 999, 'Discount': '10%', 'Rating': 4.4, 'Company': 'Tab'}\n",
            "1234522 {'P_Name': 'AC', 'Quantity': 25, 'price': 31999, 'Discount': '7%', 'Rating': 4.0, 'Company': 'ONIDA'}\n",
            "1234523 {'P_Name': 'Cycle', 'Quantity': 52, 'price': 6999, 'Discount': '3%', 'Rating': 3.3, 'Company': 'Hero'}\n",
            "1234524 {'P_Name': 'Fan', 'Quantity': 14, 'price': 1499, 'Discount': '7%', 'Rating': 3.7, 'Company': 'Bajaj'}\n",
            "1234525 {'P_Name': 'Calculator', 'Quantity': 69, 'price': 899, 'Discount': '3%', 'Rating': 4.1, 'Company': 'Dell'}\n",
            "1234526 {'P_Name': 'Jio Fi', 'Quantity': 96, 'price': 2599, 'Discount': '4%', 'Rating': 3.2, 'Company': 'Relinec'}\n",
            "1234527 {'P_Name': 'Python Book', 'Quantity': 58, 'price': 1999, 'Discount': '5%', 'Rating': 4.4, 'Company': 'Paper Back'}\n",
            "1234528 {'P_Name': 'C Book', 'Quantity': 88, 'price': 799, 'Discount': '2%', 'Rating': 4.1, 'Company': 'Threja'}\n",
            "1234529 {'P_Name': 'Java Book', 'Quantity': 85, 'price': 989, 'Discount': '11%', 'Rating': 4.3, 'Company': 'Sheild'}\n",
            "1234530 {'P_Name': 'Chocolate', 'Quantity': 56, 'price': 199, 'Discount': '1%', 'Rating': 4.4, 'Company': 'Milk'}\n",
            "1234531 {'P_Name': 'Sofa', 'Quantity': 54, 'price': '12299', 'Discount': '8%', 'Rating': 4.2, 'Company': 'Sns'}\n"
          ]
        }
      ]
    },
    {
      "cell_type": "markdown",
      "metadata": {
        "id": "Rgv4ye9Rzakn"
      },
      "source": [
        "#PURCHASE ITEMS"
      ]
    },
    {
      "cell_type": "code",
      "metadata": {
        "colab": {
          "base_uri": "https://localhost:8080/"
        },
        "id": "6Tg3tc-vniHT",
        "outputId": "b4320bcf-a263-41b2-9ecf-704e47b20375"
      },
      "source": [
        "pid=int(input(\"Enter the product ID: \"))\n",
        "qty=int(input(\"Enter the quantity: \"))\n",
        "\n",
        "if(pid in arecord):\n",
        "      print(\"B I L L\")\n",
        "      print(\"Name: \",arecord[pid]['P_Name'])\n",
        "      print(\"Price: \",arecord[pid]['price'])\n",
        "      print(\"Quantity\",qty)\n",
        "      print(\"*****************************************\")\n",
        "      print(\"*****************************************\")\n",
        "      print(\"Total price: \", arecord[pid]['price']*qty)\n",
        "      print(\"--------------------HOPE TO SEE YOU AGAIN---------------------\")\n",
        "else:\n",
        "  print(\"Check the list! Enter the correct Product id.\")"
      ],
      "execution_count": 6,
      "outputs": [
        {
          "output_type": "stream",
          "name": "stdout",
          "text": [
            "Enter the product ID: 1234507\n",
            "Enter the quantity: 7\n",
            "B I L L\n",
            "Name:  Printer\n",
            "Price:  13999\n",
            "Quantity 7\n",
            "*****************************************\n",
            "*****************************************\n",
            "Total price:  97993\n",
            "--------------------HOPE TO SEE YOU AGAIN---------------------\n"
          ]
        }
      ]
    },
    {
      "cell_type": "markdown",
      "metadata": {
        "id": "VVFYcfQpzfbo"
      },
      "source": [
        "#PURCHASE ITEMS"
      ]
    },
    {
      "cell_type": "code",
      "metadata": {
        "colab": {
          "base_uri": "https://localhost:8080/"
        },
        "id": "tescqPz_oA7N",
        "outputId": "2bee6433-4ec2-4626-86a2-66758cbd715c"
      },
      "source": [
        "pid=int(input(\"Enter the product ID: \"))\n",
        "qty=int(input(\"Enter the quantity: \"))\n",
        "\n",
        "if(pid in arecord):\n",
        "      print(\"B I L L\")\n",
        "      print(\"Name: \",arecord[pid]['P_Name'])\n",
        "      print(\"Price: \",arecord[pid]['price'])\n",
        "      print(\"Quantity\",qty)\n",
        "      print(\"*****************************************\")\n",
        "      print(\"*****************************************\")\n",
        "      print(\"Total price: \", arecord[pid]['price']*qty)\n",
        "      print(\"--------------------HOPE TO SEE YOU AGAIN---------------------\")\n",
        "else:\n",
        "  print(\"Check the list! Enter the correct id.\")"
      ],
      "execution_count": 19,
      "outputs": [
        {
          "output_type": "stream",
          "name": "stdout",
          "text": [
            "Enter the product ID: 1234519\n",
            "Enter the quantity: 12\n",
            "B I L L\n",
            "Name:  Lamp\n",
            "Price:  339\n",
            "Quantity 12\n",
            "*****************************************\n",
            "*****************************************\n",
            "Total price:  4068\n",
            "--------------------HOPE TO SEE YOU AGAIN---------------------\n"
          ]
        }
      ]
    },
    {
      "cell_type": "code",
      "metadata": {
        "id": "s4hMoI7Cx7mq"
      },
      "source": [
        "import json"
      ],
      "execution_count": 9,
      "outputs": []
    },
    {
      "cell_type": "code",
      "metadata": {
        "id": "HdBOJPnkyJl_"
      },
      "source": [
        "js = json.dumps(arecord)"
      ],
      "execution_count": 10,
      "outputs": []
    },
    {
      "cell_type": "code",
      "metadata": {
        "colab": {
          "base_uri": "https://localhost:8080/",
          "height": 170
        },
        "id": "xFu8sPK8yQ3Z",
        "outputId": "49993f69-7aaa-4aab-b820-c37905476422"
      },
      "source": [
        "js"
      ],
      "execution_count": 11,
      "outputs": [
        {
          "output_type": "execute_result",
          "data": {
            "application/vnd.google.colaboratory.intrinsic+json": {
              "type": "string"
            },
            "text/plain": [
              "'{\"1234501\": {\"P_Name\": \"Laptop\", \"Quantity\": 8, \"price\": 42999, \"Discount\": \"5%\", \"Rating\": 4.3, \"Company\": \"Hp\"}, \"1234502\": {\"P_Name\": \"Desktop\", \"Quantity\": 5, \"price\": 35999, \"Discount\": \"7%\", \"Rating\": 4.4, \"Company\": \"Dell\"}, \"1234503\": {\"P_Name\": \"Monitor\", \"Quantity\": 10, \"price\": 7599, \"Discount\": \"3%\", \"Rating\": 4.2, \"Company\": \"LG\"}, \"1234504\": {\"P_Name\": \"Tablet\", \"Quantity\": 40, \"price\": 21999, \"Discount\": \"15%\", \"Rating\": 4.1, \"Company\": \"Acer\"}, \"1234505\": {\"P_Name\": \"Camera\", \"Quantity\": 77, \"price\": 7999, \"Discount\": \"9%\", \"Rating\": 3.9, \"Company\": \"Sony\"}, \"1234506\": {\"P_Name\": \"Mobile\", \"Quantity\": 20, \"price\": 9999, \"Discount\": \"7%\", \"Rating\": 4.2, \"Company\": \"Nokia\"}, \"1234507\": {\"P_Name\": \"Printer\", \"Quantity\": 21, \"price\": 13999, \"Discount\": \"23%\", \"Rating\": 3.5, \"Company\": \"Canon\"}, \"1234508\": {\"P_Name\": \"HDD\", \"Quantity\": 30, \"price\": 3599, \"Discount\": \"2%\", \"Rating\": 3.9, \"Company\": \"Green\"}, \"1234509\": {\"P_Name\": \"SSD\", \"Quantity\": 25, \"price\": 4599, \"Discount\": \"1%\", \"Rating\": 4.6, \"Company\": \"Kingstorm\"}, \"1234510\": {\"P_Name\": \"Mouse\", \"Quantity\": 42, \"price\": 699, \"Discount\": \"8%\", \"Rating\": 4.2, \"Company\": \"Logitech\"}, \"1234511\": {\"P_Name\": \"Keyboard\", \"Quantity\": 57, \"price\": 1299, \"Discount\": \"4%\", \"Rating\": 4.0, \"Company\": \"Dell\"}, \"1234512\": {\"P_Name\": \"Pendrive\", \"Quantity\": 32, \"price\": 499, \"Discount\": \"1%\", \"Rating\": 3.6, \"Company\": \"Sandisk\"}, \"1234513\": {\"P_Name\": \"Speakers\", \"Quantity\": 23, \"price\": 1599, \"Discount\": \"4%\", \"Rating\": 4.4, \"Company\": \"Boat\"}, \"1234514\": {\"P_Name\": \"Watch\", \"Quantity\": 21, \"price\": 1199, \"Discount\": \"11%\", \"Rating\": 4.1, \"Company\": \"Sony\"}, \"1234515\": {\"P_Name\": \"Light\", \"Quantity\": 12, \"price\": 299, \"Discount\": \"10%\", \"Rating\": 4.0, \"Company\": \"Wipro\"}, \"1234516\": {\"P_Name\": \"Bottle\", \"Quantity\": 14, \"price\": 719, \"Discount\": \"7%\", \"Rating\": 3.9, \"Company\": \"cell\"}, \"1234517\": {\"P_Name\": \"Power Bank\", \"Quantity\": 41, \"price\": 1399, \"Discount\": \"3%\", \"Rating\": 4.4, \"Company\": \"MI\"}, \"1234518\": {\"P_Name\": \"Router\", \"Quantity\": 44, \"price\": 2699, \"Discount\": \"10%\", \"Rating\": 4.4, \"Company\": \"TPLINK\"}, \"1234519\": {\"P_Name\": \"Lamp\", \"Quantity\": 52, \"price\": 339, \"Discount\": \"10%\", \"Rating\": 3.2, \"Company\": \"Wora\"}, \"1234520\": {\"P_Name\": \"SD Card\", \"Quantity\": 36, \"price\": 749, \"Discount\": \"31%\", \"Rating\": 4.1, \"Company\": \"Hp\"}, \"1234521\": {\"P_Name\": \"Mask\", \"Quantity\": 63, \"price\": 999, \"Discount\": \"10%\", \"Rating\": 4.4, \"Company\": \"Tab\"}, \"1234522\": {\"P_Name\": \"AC\", \"Quantity\": 25, \"price\": 31999, \"Discount\": \"7%\", \"Rating\": 4.0, \"Company\": \"ONIDA\"}, \"1234523\": {\"P_Name\": \"Cycle\", \"Quantity\": 52, \"price\": 6999, \"Discount\": \"3%\", \"Rating\": 3.3, \"Company\": \"Hero\"}, \"1234524\": {\"P_Name\": \"Fan\", \"Quantity\": 14, \"price\": 1499, \"Discount\": \"7%\", \"Rating\": 3.7, \"Company\": \"Bajaj\"}, \"1234525\": {\"P_Name\": \"Calculator\", \"Quantity\": 69, \"price\": 899, \"Discount\": \"3%\", \"Rating\": 4.1, \"Company\": \"Dell\"}, \"1234526\": {\"P_Name\": \"Jio Fi\", \"Quantity\": 96, \"price\": 2599, \"Discount\": \"4%\", \"Rating\": 3.2, \"Company\": \"Relinec\"}, \"1234527\": {\"P_Name\": \"Python Book\", \"Quantity\": 58, \"price\": 1999, \"Discount\": \"5%\", \"Rating\": 4.4, \"Company\": \"Paper Back\"}, \"1234528\": {\"P_Name\": \"C Book\", \"Quantity\": 88, \"price\": 799, \"Discount\": \"2%\", \"Rating\": 4.1, \"Company\": \"Threja\"}, \"1234529\": {\"P_Name\": \"Java Book\", \"Quantity\": 85, \"price\": 989, \"Discount\": \"11%\", \"Rating\": 4.3, \"Company\": \"Sheild\"}, \"1234530\": {\"P_Name\": \"Chocolate\", \"Quantity\": 56, \"price\": 199, \"Discount\": \"1%\", \"Rating\": 4.4, \"Company\": \"Milk\"}, \"1234531\": {\"P_Name\": \"Sofa\", \"Quantity\": 54, \"price\": \"12299\", \"Discount\": \"8%\", \"Rating\": 4.2, \"Company\": \"Sns\"}}'"
            ]
          },
          "metadata": {},
          "execution_count": 11
        }
      ]
    },
    {
      "cell_type": "markdown",
      "metadata": {
        "id": "0mOYwhqhzuh2"
      },
      "source": [
        "#UPDATE INVENTORY AFTER PURCHASING"
      ]
    },
    {
      "cell_type": "code",
      "metadata": {
        "id": "bo1THIUDJrA5"
      },
      "source": [
        "js = json.dumps(arecord)\n",
        "\n",
        "fd = open(\"arecord.json\",'w')\n",
        "\n",
        "fd.write(js)\n",
        "\n",
        "fd.close()"
      ],
      "execution_count": 12,
      "outputs": []
    },
    {
      "cell_type": "code",
      "metadata": {
        "id": "XRScXG94z-hP"
      },
      "source": [
        "arecord[pid]['Quantity'] = arecord[pid]['Quantity']-qty"
      ],
      "execution_count": 21,
      "outputs": []
    },
    {
      "cell_type": "code",
      "metadata": {
        "colab": {
          "base_uri": "https://localhost:8080/"
        },
        "id": "UMepeQRv0LTM",
        "outputId": "bbcbe68a-081a-4bb9-e46d-4cdd7a17c0cf"
      },
      "source": [
        "arecord"
      ],
      "execution_count": 14,
      "outputs": [
        {
          "output_type": "execute_result",
          "data": {
            "text/plain": [
              "{1234501: {'Company': 'Hp',\n",
              "  'Discount': '5%',\n",
              "  'P_Name': 'Laptop',\n",
              "  'Quantity': 8,\n",
              "  'Rating': 4.3,\n",
              "  'price': 42999},\n",
              " 1234502: {'Company': 'Dell',\n",
              "  'Discount': '7%',\n",
              "  'P_Name': 'Desktop',\n",
              "  'Quantity': 5,\n",
              "  'Rating': 4.4,\n",
              "  'price': 35999},\n",
              " 1234503: {'Company': 'LG',\n",
              "  'Discount': '3%',\n",
              "  'P_Name': 'Monitor',\n",
              "  'Quantity': 10,\n",
              "  'Rating': 4.2,\n",
              "  'price': 7599},\n",
              " 1234504: {'Company': 'Acer',\n",
              "  'Discount': '15%',\n",
              "  'P_Name': 'Tablet',\n",
              "  'Quantity': 40,\n",
              "  'Rating': 4.1,\n",
              "  'price': 21999},\n",
              " 1234505: {'Company': 'Sony',\n",
              "  'Discount': '9%',\n",
              "  'P_Name': 'Camera',\n",
              "  'Quantity': 77,\n",
              "  'Rating': 3.9,\n",
              "  'price': 7999},\n",
              " 1234506: {'Company': 'Nokia',\n",
              "  'Discount': '7%',\n",
              "  'P_Name': 'Mobile',\n",
              "  'Quantity': 20,\n",
              "  'Rating': 4.2,\n",
              "  'price': 9999},\n",
              " 1234507: {'Company': 'Canon',\n",
              "  'Discount': '23%',\n",
              "  'P_Name': 'Printer',\n",
              "  'Quantity': 21,\n",
              "  'Rating': 3.5,\n",
              "  'price': 13999},\n",
              " 1234508: {'Company': 'Green',\n",
              "  'Discount': '2%',\n",
              "  'P_Name': 'HDD',\n",
              "  'Quantity': 30,\n",
              "  'Rating': 3.9,\n",
              "  'price': 3599},\n",
              " 1234509: {'Company': 'Kingstorm',\n",
              "  'Discount': '1%',\n",
              "  'P_Name': 'SSD',\n",
              "  'Quantity': 25,\n",
              "  'Rating': 4.6,\n",
              "  'price': 4599},\n",
              " 1234510: {'Company': 'Logitech',\n",
              "  'Discount': '8%',\n",
              "  'P_Name': 'Mouse',\n",
              "  'Quantity': 42,\n",
              "  'Rating': 4.2,\n",
              "  'price': 699},\n",
              " 1234511: {'Company': 'Dell',\n",
              "  'Discount': '4%',\n",
              "  'P_Name': 'Keyboard',\n",
              "  'Quantity': 57,\n",
              "  'Rating': 4.0,\n",
              "  'price': 1299},\n",
              " 1234512: {'Company': 'Sandisk',\n",
              "  'Discount': '1%',\n",
              "  'P_Name': 'Pendrive',\n",
              "  'Quantity': 32,\n",
              "  'Rating': 3.6,\n",
              "  'price': 499},\n",
              " 1234513: {'Company': 'Boat',\n",
              "  'Discount': '4%',\n",
              "  'P_Name': 'Speakers',\n",
              "  'Quantity': 23,\n",
              "  'Rating': 4.4,\n",
              "  'price': 1599},\n",
              " 1234514: {'Company': 'Sony',\n",
              "  'Discount': '11%',\n",
              "  'P_Name': 'Watch',\n",
              "  'Quantity': 21,\n",
              "  'Rating': 4.1,\n",
              "  'price': 1199},\n",
              " 1234515: {'Company': 'Wipro',\n",
              "  'Discount': '10%',\n",
              "  'P_Name': 'Light',\n",
              "  'Quantity': 12,\n",
              "  'Rating': 4.0,\n",
              "  'price': 299},\n",
              " 1234516: {'Company': 'cell',\n",
              "  'Discount': '7%',\n",
              "  'P_Name': 'Bottle',\n",
              "  'Quantity': 14,\n",
              "  'Rating': 3.9,\n",
              "  'price': 719},\n",
              " 1234517: {'Company': 'MI',\n",
              "  'Discount': '3%',\n",
              "  'P_Name': 'Power Bank',\n",
              "  'Quantity': 41,\n",
              "  'Rating': 4.4,\n",
              "  'price': 1399},\n",
              " 1234518: {'Company': 'TPLINK',\n",
              "  'Discount': '10%',\n",
              "  'P_Name': 'Router',\n",
              "  'Quantity': 44,\n",
              "  'Rating': 4.4,\n",
              "  'price': 2699},\n",
              " 1234519: {'Company': 'Wora',\n",
              "  'Discount': '10%',\n",
              "  'P_Name': 'Lamp',\n",
              "  'Quantity': 52,\n",
              "  'Rating': 3.2,\n",
              "  'price': 339},\n",
              " 1234520: {'Company': 'Hp',\n",
              "  'Discount': '31%',\n",
              "  'P_Name': 'SD Card',\n",
              "  'Quantity': 36,\n",
              "  'Rating': 4.1,\n",
              "  'price': 749},\n",
              " 1234521: {'Company': 'Tab',\n",
              "  'Discount': '10%',\n",
              "  'P_Name': 'Mask',\n",
              "  'Quantity': 63,\n",
              "  'Rating': 4.4,\n",
              "  'price': 999},\n",
              " 1234522: {'Company': 'ONIDA',\n",
              "  'Discount': '7%',\n",
              "  'P_Name': 'AC',\n",
              "  'Quantity': 25,\n",
              "  'Rating': 4.0,\n",
              "  'price': 31999},\n",
              " 1234523: {'Company': 'Hero',\n",
              "  'Discount': '3%',\n",
              "  'P_Name': 'Cycle',\n",
              "  'Quantity': 52,\n",
              "  'Rating': 3.3,\n",
              "  'price': 6999},\n",
              " 1234524: {'Company': 'Bajaj',\n",
              "  'Discount': '7%',\n",
              "  'P_Name': 'Fan',\n",
              "  'Quantity': 14,\n",
              "  'Rating': 3.7,\n",
              "  'price': 1499},\n",
              " 1234525: {'Company': 'Dell',\n",
              "  'Discount': '3%',\n",
              "  'P_Name': 'Calculator',\n",
              "  'Quantity': 69,\n",
              "  'Rating': 4.1,\n",
              "  'price': 899},\n",
              " 1234526: {'Company': 'Relinec',\n",
              "  'Discount': '4%',\n",
              "  'P_Name': 'Jio Fi',\n",
              "  'Quantity': 96,\n",
              "  'Rating': 3.2,\n",
              "  'price': 2599},\n",
              " 1234527: {'Company': 'Paper Back',\n",
              "  'Discount': '5%',\n",
              "  'P_Name': 'Python Book',\n",
              "  'Quantity': 58,\n",
              "  'Rating': 4.4,\n",
              "  'price': 1999},\n",
              " 1234528: {'Company': 'Threja',\n",
              "  'Discount': '2%',\n",
              "  'P_Name': 'C Book',\n",
              "  'Quantity': 88,\n",
              "  'Rating': 4.1,\n",
              "  'price': 799},\n",
              " 1234529: {'Company': 'Sheild',\n",
              "  'Discount': '11%',\n",
              "  'P_Name': 'Java Book',\n",
              "  'Quantity': 85,\n",
              "  'Rating': 4.3,\n",
              "  'price': 989},\n",
              " 1234530: {'Company': 'Milk',\n",
              "  'Discount': '1%',\n",
              "  'P_Name': 'Chocolate',\n",
              "  'Quantity': 56,\n",
              "  'Rating': 4.4,\n",
              "  'price': 199},\n",
              " 1234531: {'Company': 'Sns',\n",
              "  'Discount': '8%',\n",
              "  'P_Name': 'Sofa',\n",
              "  'Quantity': 54,\n",
              "  'Rating': 4.2,\n",
              "  'price': '12299'}}"
            ]
          },
          "metadata": {},
          "execution_count": 14
        }
      ]
    },
    {
      "cell_type": "code",
      "metadata": {
        "colab": {
          "base_uri": "https://localhost:8080/"
        },
        "id": "nbWWtVwq1AYI",
        "outputId": "bf74c195-de6a-4b78-89d4-33df61ac9b78"
      },
      "source": [
        "arecord[1234509]['Quantity']"
      ],
      "execution_count": 18,
      "outputs": [
        {
          "output_type": "execute_result",
          "data": {
            "text/plain": [
              "17"
            ]
          },
          "metadata": {},
          "execution_count": 18
        }
      ]
    },
    {
      "cell_type": "code",
      "metadata": {
        "colab": {
          "base_uri": "https://localhost:8080/"
        },
        "id": "OT2594Hu1Lyu",
        "outputId": "068aaea0-7303-4815-f2b2-e41a81b83bb6"
      },
      "source": [
        "arecord[1234519]['Quantity']"
      ],
      "execution_count": 22,
      "outputs": [
        {
          "output_type": "execute_result",
          "data": {
            "text/plain": [
              "40"
            ]
          },
          "metadata": {},
          "execution_count": 22
        }
      ]
    },
    {
      "cell_type": "markdown",
      "metadata": {
        "id": "CqPVpWnMPouD"
      },
      "source": [
        "#READ DATA FROM JSON"
      ]
    },
    {
      "cell_type": "code",
      "metadata": {
        "id": "cgbiFTj5PSpR"
      },
      "source": [
        "fd = open(\"arecord.json\",'r')\n",
        "txt = fd.read()\n",
        "fd.close()\n",
        "\n",
        "record = json.loads(txt)"
      ],
      "execution_count": 23,
      "outputs": []
    },
    {
      "cell_type": "code",
      "metadata": {
        "colab": {
          "base_uri": "https://localhost:8080/"
        },
        "id": "FvIK0nXtPwAV",
        "outputId": "70c46c2e-a94d-4c7b-b8ae-aa2bf736bd0c"
      },
      "source": [
        "record"
      ],
      "execution_count": 24,
      "outputs": [
        {
          "output_type": "execute_result",
          "data": {
            "text/plain": [
              "{'1234501': {'Company': 'Hp',\n",
              "  'Discount': '5%',\n",
              "  'P_Name': 'Laptop',\n",
              "  'Quantity': 8,\n",
              "  'Rating': 4.3,\n",
              "  'price': 42999},\n",
              " '1234502': {'Company': 'Dell',\n",
              "  'Discount': '7%',\n",
              "  'P_Name': 'Desktop',\n",
              "  'Quantity': 5,\n",
              "  'Rating': 4.4,\n",
              "  'price': 35999},\n",
              " '1234503': {'Company': 'LG',\n",
              "  'Discount': '3%',\n",
              "  'P_Name': 'Monitor',\n",
              "  'Quantity': 10,\n",
              "  'Rating': 4.2,\n",
              "  'price': 7599},\n",
              " '1234504': {'Company': 'Acer',\n",
              "  'Discount': '15%',\n",
              "  'P_Name': 'Tablet',\n",
              "  'Quantity': 40,\n",
              "  'Rating': 4.1,\n",
              "  'price': 21999},\n",
              " '1234505': {'Company': 'Sony',\n",
              "  'Discount': '9%',\n",
              "  'P_Name': 'Camera',\n",
              "  'Quantity': 77,\n",
              "  'Rating': 3.9,\n",
              "  'price': 7999},\n",
              " '1234506': {'Company': 'Nokia',\n",
              "  'Discount': '7%',\n",
              "  'P_Name': 'Mobile',\n",
              "  'Quantity': 20,\n",
              "  'Rating': 4.2,\n",
              "  'price': 9999},\n",
              " '1234507': {'Company': 'Canon',\n",
              "  'Discount': '23%',\n",
              "  'P_Name': 'Printer',\n",
              "  'Quantity': 21,\n",
              "  'Rating': 3.5,\n",
              "  'price': 13999},\n",
              " '1234508': {'Company': 'Green',\n",
              "  'Discount': '2%',\n",
              "  'P_Name': 'HDD',\n",
              "  'Quantity': 30,\n",
              "  'Rating': 3.9,\n",
              "  'price': 3599},\n",
              " '1234509': {'Company': 'Kingstorm',\n",
              "  'Discount': '1%',\n",
              "  'P_Name': 'SSD',\n",
              "  'Quantity': 25,\n",
              "  'Rating': 4.6,\n",
              "  'price': 4599},\n",
              " '1234510': {'Company': 'Logitech',\n",
              "  'Discount': '8%',\n",
              "  'P_Name': 'Mouse',\n",
              "  'Quantity': 42,\n",
              "  'Rating': 4.2,\n",
              "  'price': 699},\n",
              " '1234511': {'Company': 'Dell',\n",
              "  'Discount': '4%',\n",
              "  'P_Name': 'Keyboard',\n",
              "  'Quantity': 57,\n",
              "  'Rating': 4.0,\n",
              "  'price': 1299},\n",
              " '1234512': {'Company': 'Sandisk',\n",
              "  'Discount': '1%',\n",
              "  'P_Name': 'Pendrive',\n",
              "  'Quantity': 32,\n",
              "  'Rating': 3.6,\n",
              "  'price': 499},\n",
              " '1234513': {'Company': 'Boat',\n",
              "  'Discount': '4%',\n",
              "  'P_Name': 'Speakers',\n",
              "  'Quantity': 23,\n",
              "  'Rating': 4.4,\n",
              "  'price': 1599},\n",
              " '1234514': {'Company': 'Sony',\n",
              "  'Discount': '11%',\n",
              "  'P_Name': 'Watch',\n",
              "  'Quantity': 21,\n",
              "  'Rating': 4.1,\n",
              "  'price': 1199},\n",
              " '1234515': {'Company': 'Wipro',\n",
              "  'Discount': '10%',\n",
              "  'P_Name': 'Light',\n",
              "  'Quantity': 12,\n",
              "  'Rating': 4.0,\n",
              "  'price': 299},\n",
              " '1234516': {'Company': 'cell',\n",
              "  'Discount': '7%',\n",
              "  'P_Name': 'Bottle',\n",
              "  'Quantity': 14,\n",
              "  'Rating': 3.9,\n",
              "  'price': 719},\n",
              " '1234517': {'Company': 'MI',\n",
              "  'Discount': '3%',\n",
              "  'P_Name': 'Power Bank',\n",
              "  'Quantity': 41,\n",
              "  'Rating': 4.4,\n",
              "  'price': 1399},\n",
              " '1234518': {'Company': 'TPLINK',\n",
              "  'Discount': '10%',\n",
              "  'P_Name': 'Router',\n",
              "  'Quantity': 44,\n",
              "  'Rating': 4.4,\n",
              "  'price': 2699},\n",
              " '1234519': {'Company': 'Wora',\n",
              "  'Discount': '10%',\n",
              "  'P_Name': 'Lamp',\n",
              "  'Quantity': 52,\n",
              "  'Rating': 3.2,\n",
              "  'price': 339},\n",
              " '1234520': {'Company': 'Hp',\n",
              "  'Discount': '31%',\n",
              "  'P_Name': 'SD Card',\n",
              "  'Quantity': 36,\n",
              "  'Rating': 4.1,\n",
              "  'price': 749},\n",
              " '1234521': {'Company': 'Tab',\n",
              "  'Discount': '10%',\n",
              "  'P_Name': 'Mask',\n",
              "  'Quantity': 63,\n",
              "  'Rating': 4.4,\n",
              "  'price': 999},\n",
              " '1234522': {'Company': 'ONIDA',\n",
              "  'Discount': '7%',\n",
              "  'P_Name': 'AC',\n",
              "  'Quantity': 25,\n",
              "  'Rating': 4.0,\n",
              "  'price': 31999},\n",
              " '1234523': {'Company': 'Hero',\n",
              "  'Discount': '3%',\n",
              "  'P_Name': 'Cycle',\n",
              "  'Quantity': 52,\n",
              "  'Rating': 3.3,\n",
              "  'price': 6999},\n",
              " '1234524': {'Company': 'Bajaj',\n",
              "  'Discount': '7%',\n",
              "  'P_Name': 'Fan',\n",
              "  'Quantity': 14,\n",
              "  'Rating': 3.7,\n",
              "  'price': 1499},\n",
              " '1234525': {'Company': 'Dell',\n",
              "  'Discount': '3%',\n",
              "  'P_Name': 'Calculator',\n",
              "  'Quantity': 69,\n",
              "  'Rating': 4.1,\n",
              "  'price': 899},\n",
              " '1234526': {'Company': 'Relinec',\n",
              "  'Discount': '4%',\n",
              "  'P_Name': 'Jio Fi',\n",
              "  'Quantity': 96,\n",
              "  'Rating': 3.2,\n",
              "  'price': 2599},\n",
              " '1234527': {'Company': 'Paper Back',\n",
              "  'Discount': '5%',\n",
              "  'P_Name': 'Python Book',\n",
              "  'Quantity': 58,\n",
              "  'Rating': 4.4,\n",
              "  'price': 1999},\n",
              " '1234528': {'Company': 'Threja',\n",
              "  'Discount': '2%',\n",
              "  'P_Name': 'C Book',\n",
              "  'Quantity': 88,\n",
              "  'Rating': 4.1,\n",
              "  'price': 799},\n",
              " '1234529': {'Company': 'Sheild',\n",
              "  'Discount': '11%',\n",
              "  'P_Name': 'Java Book',\n",
              "  'Quantity': 85,\n",
              "  'Rating': 4.3,\n",
              "  'price': 989},\n",
              " '1234530': {'Company': 'Milk',\n",
              "  'Discount': '1%',\n",
              "  'P_Name': 'Chocolate',\n",
              "  'Quantity': 56,\n",
              "  'Rating': 4.4,\n",
              "  'price': 199},\n",
              " '1234531': {'Company': 'Sns',\n",
              "  'Discount': '8%',\n",
              "  'P_Name': 'Sofa',\n",
              "  'Quantity': 54,\n",
              "  'Rating': 4.2,\n",
              "  'price': '12299'}}"
            ]
          },
          "metadata": {},
          "execution_count": 24
        }
      ]
    },
    {
      "cell_type": "markdown",
      "metadata": {
        "id": "hKANRy0ZR5Hl"
      },
      "source": [
        "#ADD NEW ITEM TO THE INVENTORY"
      ]
    },
    {
      "cell_type": "code",
      "metadata": {
        "colab": {
          "base_uri": "https://localhost:8080/"
        },
        "id": "MKQhmv4rR6hT",
        "outputId": "eee55250-ddac-428c-f879-1f3dd30e8d85"
      },
      "source": [
        "pid = input(\"Enter product id:\")\n",
        "name = input(\"Enter name:\")\n",
        "qn = int(input(\"Enter quantity:\"))\n",
        "pr = int(input(\"Enter price:\"))\n",
        "dis = input(\"Enter Discount : \")\n",
        "ret = input(\"Enter rating : \")\n",
        "cn = input(\"Enter Company name : \")\n",
        "\n",
        "record[pid] = {'P_Name': name,'Quantity': qn, 'price': pr,  'Discount': dis, 'Company': cn}\n",
        "\n",
        "js = json.dumps(record)\n",
        "\n",
        "fd = open(\"add.json\",'w')\n",
        "fd.write(js)\n",
        "fd.close()"
      ],
      "execution_count": 29,
      "outputs": [
        {
          "name": "stdout",
          "output_type": "stream",
          "text": [
            "Enter product id:1234533\n",
            "Enter name:IGI\n",
            "Enter quantity:15\n",
            "Enter price:1599\n",
            "Enter Discount : 8%\n",
            "Enter rating : 4.5\n",
            "Enter Company name : ICGI\n"
          ]
        }
      ]
    },
    {
      "cell_type": "code",
      "metadata": {
        "colab": {
          "base_uri": "https://localhost:8080/"
        },
        "id": "2NseKPXRR-2U",
        "outputId": "b09b1dbd-3dea-4897-c208-993c91c7cea9"
      },
      "source": [
        "record"
      ],
      "execution_count": 30,
      "outputs": [
        {
          "output_type": "execute_result",
          "data": {
            "text/plain": [
              "{'1234501': {'Company': 'Hp',\n",
              "  'Discount': '5%',\n",
              "  'P_Name': 'Laptop',\n",
              "  'Quantity': 8,\n",
              "  'Rating': 4.3,\n",
              "  'price': 42999},\n",
              " '1234502': {'Company': 'Dell',\n",
              "  'Discount': '7%',\n",
              "  'P_Name': 'Desktop',\n",
              "  'Quantity': 5,\n",
              "  'Rating': 4.4,\n",
              "  'price': 35999},\n",
              " '1234503': {'Company': 'LG',\n",
              "  'Discount': '3%',\n",
              "  'P_Name': 'Monitor',\n",
              "  'Quantity': 10,\n",
              "  'Rating': 4.2,\n",
              "  'price': 7599},\n",
              " '1234504': {'Company': 'Acer',\n",
              "  'Discount': '15%',\n",
              "  'P_Name': 'Tablet',\n",
              "  'Quantity': 40,\n",
              "  'Rating': 4.1,\n",
              "  'price': 21999},\n",
              " '1234505': {'Company': 'Sony',\n",
              "  'Discount': '9%',\n",
              "  'P_Name': 'Camera',\n",
              "  'Quantity': 77,\n",
              "  'Rating': 3.9,\n",
              "  'price': 7999},\n",
              " '1234506': {'Company': 'Nokia',\n",
              "  'Discount': '7%',\n",
              "  'P_Name': 'Mobile',\n",
              "  'Quantity': 20,\n",
              "  'Rating': 4.2,\n",
              "  'price': 9999},\n",
              " '1234507': {'Company': 'Canon',\n",
              "  'Discount': '23%',\n",
              "  'P_Name': 'Printer',\n",
              "  'Quantity': 21,\n",
              "  'Rating': 3.5,\n",
              "  'price': 13999},\n",
              " '1234508': {'Company': 'Green',\n",
              "  'Discount': '2%',\n",
              "  'P_Name': 'HDD',\n",
              "  'Quantity': 30,\n",
              "  'Rating': 3.9,\n",
              "  'price': 3599},\n",
              " '1234509': {'Company': 'Kingstorm',\n",
              "  'Discount': '1%',\n",
              "  'P_Name': 'SSD',\n",
              "  'Quantity': 25,\n",
              "  'Rating': 4.6,\n",
              "  'price': 4599},\n",
              " '1234510': {'Company': 'Logitech',\n",
              "  'Discount': '8%',\n",
              "  'P_Name': 'Mouse',\n",
              "  'Quantity': 42,\n",
              "  'Rating': 4.2,\n",
              "  'price': 699},\n",
              " '1234511': {'Company': 'Dell',\n",
              "  'Discount': '4%',\n",
              "  'P_Name': 'Keyboard',\n",
              "  'Quantity': 57,\n",
              "  'Rating': 4.0,\n",
              "  'price': 1299},\n",
              " '1234512': {'Company': 'Sandisk',\n",
              "  'Discount': '1%',\n",
              "  'P_Name': 'Pendrive',\n",
              "  'Quantity': 32,\n",
              "  'Rating': 3.6,\n",
              "  'price': 499},\n",
              " '1234513': {'Company': 'Boat',\n",
              "  'Discount': '4%',\n",
              "  'P_Name': 'Speakers',\n",
              "  'Quantity': 23,\n",
              "  'Rating': 4.4,\n",
              "  'price': 1599},\n",
              " '1234514': {'Company': 'Sony',\n",
              "  'Discount': '11%',\n",
              "  'P_Name': 'Watch',\n",
              "  'Quantity': 21,\n",
              "  'Rating': 4.1,\n",
              "  'price': 1199},\n",
              " '1234515': {'Company': 'Wipro',\n",
              "  'Discount': '10%',\n",
              "  'P_Name': 'Light',\n",
              "  'Quantity': 12,\n",
              "  'Rating': 4.0,\n",
              "  'price': 299},\n",
              " '1234516': {'Company': 'cell',\n",
              "  'Discount': '7%',\n",
              "  'P_Name': 'Bottle',\n",
              "  'Quantity': 14,\n",
              "  'Rating': 3.9,\n",
              "  'price': 719},\n",
              " '1234517': {'Company': 'MI',\n",
              "  'Discount': '3%',\n",
              "  'P_Name': 'Power Bank',\n",
              "  'Quantity': 41,\n",
              "  'Rating': 4.4,\n",
              "  'price': 1399},\n",
              " '1234518': {'Company': 'TPLINK',\n",
              "  'Discount': '10%',\n",
              "  'P_Name': 'Router',\n",
              "  'Quantity': 44,\n",
              "  'Rating': 4.4,\n",
              "  'price': 2699},\n",
              " '1234519': {'Company': 'Wora',\n",
              "  'Discount': '10%',\n",
              "  'P_Name': 'Lamp',\n",
              "  'Quantity': 52,\n",
              "  'Rating': 3.2,\n",
              "  'price': 339},\n",
              " '1234520': {'Company': 'Hp',\n",
              "  'Discount': '31%',\n",
              "  'P_Name': 'SD Card',\n",
              "  'Quantity': 36,\n",
              "  'Rating': 4.1,\n",
              "  'price': 749},\n",
              " '1234521': {'Company': 'Tab',\n",
              "  'Discount': '10%',\n",
              "  'P_Name': 'Mask',\n",
              "  'Quantity': 63,\n",
              "  'Rating': 4.4,\n",
              "  'price': 999},\n",
              " '1234522': {'Company': 'ONIDA',\n",
              "  'Discount': '7%',\n",
              "  'P_Name': 'AC',\n",
              "  'Quantity': 25,\n",
              "  'Rating': 4.0,\n",
              "  'price': 31999},\n",
              " '1234523': {'Company': 'Hero',\n",
              "  'Discount': '3%',\n",
              "  'P_Name': 'Cycle',\n",
              "  'Quantity': 52,\n",
              "  'Rating': 3.3,\n",
              "  'price': 6999},\n",
              " '1234524': {'Company': 'Bajaj',\n",
              "  'Discount': '7%',\n",
              "  'P_Name': 'Fan',\n",
              "  'Quantity': 14,\n",
              "  'Rating': 3.7,\n",
              "  'price': 1499},\n",
              " '1234525': {'Company': 'Dell',\n",
              "  'Discount': '3%',\n",
              "  'P_Name': 'Calculator',\n",
              "  'Quantity': 69,\n",
              "  'Rating': 4.1,\n",
              "  'price': 899},\n",
              " '1234526': {'Company': 'Relinec',\n",
              "  'Discount': '4%',\n",
              "  'P_Name': 'Jio Fi',\n",
              "  'Quantity': 96,\n",
              "  'Rating': 3.2,\n",
              "  'price': 2599},\n",
              " '1234527': {'Company': 'Paper Back',\n",
              "  'Discount': '5%',\n",
              "  'P_Name': 'Python Book',\n",
              "  'Quantity': 58,\n",
              "  'Rating': 4.4,\n",
              "  'price': 1999},\n",
              " '1234528': {'Company': 'Threja',\n",
              "  'Discount': '2%',\n",
              "  'P_Name': 'C Book',\n",
              "  'Quantity': 88,\n",
              "  'Rating': 4.1,\n",
              "  'price': 799},\n",
              " '1234529': {'Company': 'Sheild',\n",
              "  'Discount': '11%',\n",
              "  'P_Name': 'Java Book',\n",
              "  'Quantity': 85,\n",
              "  'Rating': 4.3,\n",
              "  'price': 989},\n",
              " '1234530': {'Company': 'Milk',\n",
              "  'Discount': '1%',\n",
              "  'P_Name': 'Chocolate',\n",
              "  'Quantity': 56,\n",
              "  'Rating': 4.4,\n",
              "  'price': 199},\n",
              " '1234531': {'Company': 'Sns',\n",
              "  'Discount': '8%',\n",
              "  'P_Name': 'Sofa',\n",
              "  'Quantity': 54,\n",
              "  'Rating': 4.2,\n",
              "  'price': '12299'},\n",
              " '1234532': {'Company': 'cello',\n",
              "  'Discount': '3%',\n",
              "  'P_Name': 'Pen',\n",
              "  'Quantity': 150,\n",
              "  'price': 18},\n",
              " '1234533': {'Company': 'ICGI',\n",
              "  'Discount': '8%',\n",
              "  'P_Name': 'IGI',\n",
              "  'Quantity': 15,\n",
              "  'price': 1599}}"
            ]
          },
          "metadata": {},
          "execution_count": 30
        }
      ]
    },
    {
      "cell_type": "code",
      "metadata": {
        "id": "q-NN84EeScDk"
      },
      "source": [
        ""
      ],
      "execution_count": null,
      "outputs": []
    }
  ]
}